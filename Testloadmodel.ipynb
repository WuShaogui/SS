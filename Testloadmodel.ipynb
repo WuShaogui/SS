{
 "cells": [
  {
   "cell_type": "code",
   "execution_count": 1,
   "metadata": {
    "ExecuteTime": {
     "end_time": "2018-06-22T12:09:24.734243Z",
     "start_time": "2018-06-22T12:09:11.992959Z"
    }
   },
   "outputs": [
    {
     "name": "stderr",
     "output_type": "stream",
     "text": [
      "/usr/local/lib/python3.5/dist-packages/h5py/__init__.py:36: FutureWarning: Conversion of the second argument of issubdtype from `float` to `np.floating` is deprecated. In future, it will be treated as `np.float64 == np.dtype(float).type`.\n",
      "  from ._conv import register_converters as _register_converters\n",
      "Using TensorFlow backend.\n"
     ]
    },
    {
     "name": "stdout",
     "output_type": "stream",
     "text": [
      "WARNING:tensorflow:From /usr/local/lib/python3.5/dist-packages/keras/backend/tensorflow_backend.py:1188: calling reduce_sum (from tensorflow.python.ops.math_ops) with keep_dims is deprecated and will be removed in a future version.\n",
      "Instructions for updating:\n",
      "keep_dims is deprecated, use keepdims instead\n",
      "WARNING:tensorflow:From /usr/local/lib/python3.5/dist-packages/keras/backend/tensorflow_backend.py:1205: calling reduce_prod (from tensorflow.python.ops.math_ops) with keep_dims is deprecated and will be removed in a future version.\n",
      "Instructions for updating:\n",
      "keep_dims is deprecated, use keepdims instead\n",
      "WARNING:tensorflow:From /usr/local/lib/python3.5/dist-packages/keras/backend/tensorflow_backend.py:1290: calling reduce_mean (from tensorflow.python.ops.math_ops) with keep_dims is deprecated and will be removed in a future version.\n",
      "Instructions for updating:\n",
      "keep_dims is deprecated, use keepdims instead\n",
      "_________________________________________________________________\n",
      "Layer (type)                 Output Shape              Param #   \n",
      "=================================================================\n",
      "input_1 (InputLayer)         (None, 13, 30, 1)         0         \n",
      "_________________________________________________________________\n",
      "model_1 (Model)              (None, 9600)              260704    \n",
      "_________________________________________________________________\n",
      "dense_1 (Dense)              (None, 3)                 28803     \n",
      "=================================================================\n",
      "Total params: 289,507\n",
      "Trainable params: 288,003\n",
      "Non-trainable params: 1,504\n",
      "_________________________________________________________________\n"
     ]
    }
   ],
   "source": [
    "from keras.models import load_model\n",
    "\n",
    "model=load_model('models/cb513_Q3_cnn.hdf5')  #Xxx.hdf5 file saves the model (including model structure and weights)\n",
    "model.summary()"
   ]
  },
  {
   "cell_type": "code",
   "execution_count": 2,
   "metadata": {
    "ExecuteTime": {
     "end_time": "2018-06-22T12:09:35.660125Z",
     "start_time": "2018-06-22T12:09:24.735607Z"
    }
   },
   "outputs": [
    {
     "name": "stdout",
     "output_type": "stream",
     "text": [
      "____________________________________________________________________________________________________\n",
      "Layer (type)                     Output Shape          Param #     Connected to                     \n",
      "====================================================================================================\n",
      "input_1 (InputLayer)             (None, 13, 30)        0                                            \n",
      "____________________________________________________________________________________________________\n",
      "dropout_1 (Dropout)              (None, 13, 30)        0           input_1[0][0]                    \n",
      "____________________________________________________________________________________________________\n",
      "bidirectional_1 (Bidirectional)  (None, 13, 300)       162900      dropout_1[0][0]                  \n",
      "____________________________________________________________________________________________________\n",
      "time_distributed_1 (TimeDistribu (None, 13, 600)       180600      bidirectional_1[0][0]            \n",
      "____________________________________________________________________________________________________\n",
      "dropout_2 (Dropout)              (None, 13, 600)       0           time_distributed_1[0][0]         \n",
      "____________________________________________________________________________________________________\n",
      "input_2 (InputLayer)             (None, 13, 30, 1)     0                                            \n",
      "____________________________________________________________________________________________________\n",
      "flatten_1 (Flatten)              (None, 7800)          0           dropout_2[0][0]                  \n",
      "____________________________________________________________________________________________________\n",
      "model_1 (Model)                  (None, 9600)          260704      input_2[0][0]                    \n",
      "____________________________________________________________________________________________________\n",
      "concatenate_1 (Concatenate)      (None, 17400)         0           flatten_1[0][0]                  \n",
      "                                                                   model_1[1][0]                    \n",
      "____________________________________________________________________________________________________\n",
      "dropout_4 (Dropout)              (None, 17400)         0           concatenate_1[0][0]              \n",
      "____________________________________________________________________________________________________\n",
      "dense_2 (Dense)                  (None, 3)             52203       dropout_4[0][0]                  \n",
      "====================================================================================================\n",
      "Total params: 656,407\n",
      "Trainable params: 654,903\n",
      "Non-trainable params: 1,504\n",
      "____________________________________________________________________________________________________\n"
     ]
    }
   ],
   "source": [
    "model=load_model('models/cb513_Q3_cnn_rnn.hdf5')  \n",
    "model.summary()"
   ]
  },
  {
   "cell_type": "code",
   "execution_count": 3,
   "metadata": {
    "ExecuteTime": {
     "end_time": "2018-06-22T12:10:10.188815Z",
     "start_time": "2018-06-22T12:09:35.661800Z"
    },
    "scrolled": false
   },
   "outputs": [
    {
     "name": "stdout",
     "output_type": "stream",
     "text": [
      "____________________________________________________________________________________________________\n",
      "Layer (type)                     Output Shape          Param #     Connected to                     \n",
      "====================================================================================================\n",
      "input_1 (InputLayer)             (None, 13, 30)        0                                            \n",
      "____________________________________________________________________________________________________\n",
      "dropout_1 (Dropout)              (None, 13, 30)        0           input_1[0][0]                    \n",
      "____________________________________________________________________________________________________\n",
      "bidirectional_1 (Bidirectional)  (None, 13, 300)       162900      dropout_1[0][0]                  \n",
      "____________________________________________________________________________________________________\n",
      "AttentionDecoder (AttentionDecod (None, 13, 300)       490800      bidirectional_1[0][0]            \n",
      "____________________________________________________________________________________________________\n",
      "time_distributed_1 (TimeDistribu (None, 13, 600)       180600      AttentionDecoder[0][0]           \n",
      "____________________________________________________________________________________________________\n",
      "dropout_2 (Dropout)              (None, 13, 600)       0           time_distributed_1[0][0]         \n",
      "____________________________________________________________________________________________________\n",
      "input_2 (InputLayer)             (None, 13, 30, 1)     0                                            \n",
      "____________________________________________________________________________________________________\n",
      "flatten_1 (Flatten)              (None, 7800)          0           dropout_2[0][0]                  \n",
      "____________________________________________________________________________________________________\n",
      "model_1 (Model)                  (None, 9600)          283640      input_2[0][0]                    \n",
      "____________________________________________________________________________________________________\n",
      "concatenate_1 (Concatenate)      (None, 17400)         0           flatten_1[0][0]                  \n",
      "                                                                   model_1[1][0]                    \n",
      "____________________________________________________________________________________________________\n",
      "dropout_4 (Dropout)              (None, 17400)         0           concatenate_1[0][0]              \n",
      "____________________________________________________________________________________________________\n",
      "dense_2 (Dense)                  (None, 3)             52203       dropout_4[0][0]                  \n",
      "====================================================================================================\n",
      "Total params: 1,170,143\n",
      "Trainable params: 1,167,631\n",
      "Non-trainable params: 2,512\n",
      "____________________________________________________________________________________________________\n"
     ]
    }
   ],
   "source": [
    "model=load_model('models/cb513_Q3_cnn_rnn_att.hdf5')  \n",
    "model.summary()"
   ]
  },
  {
   "cell_type": "code",
   "execution_count": 4,
   "metadata": {
    "ExecuteTime": {
     "end_time": "2018-06-22T12:10:24.439685Z",
     "start_time": "2018-06-22T12:10:10.191018Z"
    }
   },
   "outputs": [
    {
     "name": "stdout",
     "output_type": "stream",
     "text": [
      "_________________________________________________________________\n",
      "Layer (type)                 Output Shape              Param #   \n",
      "=================================================================\n",
      "input_1 (InputLayer)         (None, 13, 35, 1)         0         \n",
      "_________________________________________________________________\n",
      "model_1 (Model)              (None, 11520)             260704    \n",
      "_________________________________________________________________\n",
      "dense_1 (Dense)              (None, 8)                 92168     \n",
      "=================================================================\n",
      "Total params: 352,872\n",
      "Trainable params: 351,368\n",
      "Non-trainable params: 1,504\n",
      "_________________________________________________________________\n"
     ]
    }
   ],
   "source": [
    "model=load_model('models/cb513_Q8_cnn.hdf5')  #Xxx.hdf5 file saves the model (including model structure and weights)\n",
    "model.summary()"
   ]
  },
  {
   "cell_type": "code",
   "execution_count": 5,
   "metadata": {
    "ExecuteTime": {
     "end_time": "2018-06-22T12:11:18.366126Z",
     "start_time": "2018-06-22T12:10:24.441174Z"
    }
   },
   "outputs": [
    {
     "name": "stdout",
     "output_type": "stream",
     "text": [
      "____________________________________________________________________________________________________\n",
      "Layer (type)                     Output Shape          Param #     Connected to                     \n",
      "====================================================================================================\n",
      "input_1 (InputLayer)             (None, 13, 35)        0                                            \n",
      "____________________________________________________________________________________________________\n",
      "dropout_1 (Dropout)              (None, 13, 35)        0           input_1[0][0]                    \n",
      "____________________________________________________________________________________________________\n",
      "bidirectional_1 (Bidirectional)  (None, 13, 300)       167400      dropout_1[0][0]                  \n",
      "____________________________________________________________________________________________________\n",
      "AttentionDecoder (AttentionDecod (None, 13, 300)       490800      bidirectional_1[0][0]            \n",
      "____________________________________________________________________________________________________\n",
      "time_distributed_1 (TimeDistribu (None, 13, 600)       180600      AttentionDecoder[0][0]           \n",
      "____________________________________________________________________________________________________\n",
      "dropout_2 (Dropout)              (None, 13, 600)       0           time_distributed_1[0][0]         \n",
      "____________________________________________________________________________________________________\n",
      "input_2 (InputLayer)             (None, 13, 35, 1)     0                                            \n",
      "____________________________________________________________________________________________________\n",
      "flatten_1 (Flatten)              (None, 7800)          0           dropout_2[0][0]                  \n",
      "____________________________________________________________________________________________________\n",
      "model_1 (Model)                  (None, 11520)         283640      input_2[0][0]                    \n",
      "____________________________________________________________________________________________________\n",
      "concatenate_1 (Concatenate)      (None, 19320)         0           flatten_1[0][0]                  \n",
      "                                                                   model_1[1][0]                    \n",
      "____________________________________________________________________________________________________\n",
      "dropout_4 (Dropout)              (None, 19320)         0           concatenate_1[0][0]              \n",
      "____________________________________________________________________________________________________\n",
      "dense_2 (Dense)                  (None, 8)             154568      dropout_4[0][0]                  \n",
      "====================================================================================================\n",
      "Total params: 1,277,008\n",
      "Trainable params: 1,274,496\n",
      "Non-trainable params: 2,512\n",
      "____________________________________________________________________________________________________\n"
     ]
    }
   ],
   "source": [
    "model=load_model('models/cb513_Q8_cnn_rnn_att.hdf5')  \n",
    "model.summary()"
   ]
  },
  {
   "cell_type": "code",
   "execution_count": 6,
   "metadata": {
    "ExecuteTime": {
     "end_time": "2018-06-22T12:11:39.851422Z",
     "start_time": "2018-06-22T12:11:18.368339Z"
    }
   },
   "outputs": [
    {
     "name": "stdout",
     "output_type": "stream",
     "text": [
      "____________________________________________________________________________________________________\n",
      "Layer (type)                     Output Shape          Param #     Connected to                     \n",
      "====================================================================================================\n",
      "input_1 (InputLayer)             (None, 13, 30)        0                                            \n",
      "____________________________________________________________________________________________________\n",
      "dropout_1 (Dropout)              (None, 13, 30)        0           input_1[0][0]                    \n",
      "____________________________________________________________________________________________________\n",
      "bidirectional_1 (Bidirectional)  (None, 13, 300)       162900      dropout_1[0][0]                  \n",
      "____________________________________________________________________________________________________\n",
      "time_distributed_1 (TimeDistribu (None, 13, 600)       180600      bidirectional_1[0][0]            \n",
      "____________________________________________________________________________________________________\n",
      "dropout_2 (Dropout)              (None, 13, 600)       0           time_distributed_1[0][0]         \n",
      "____________________________________________________________________________________________________\n",
      "input_2 (InputLayer)             (None, 13, 30, 1)     0                                            \n",
      "____________________________________________________________________________________________________\n",
      "flatten_1 (Flatten)              (None, 7800)          0           dropout_2[0][0]                  \n",
      "____________________________________________________________________________________________________\n",
      "model_1 (Model)                  (None, 9600)          260704      input_2[0][0]                    \n",
      "____________________________________________________________________________________________________\n",
      "concatenate_1 (Concatenate)      (None, 17400)         0           flatten_1[0][0]                  \n",
      "                                                                   model_1[1][0]                    \n",
      "____________________________________________________________________________________________________\n",
      "dropout_4 (Dropout)              (None, 17400)         0           concatenate_1[0][0]              \n",
      "____________________________________________________________________________________________________\n",
      "dense_2 (Dense)                  (None, 3)             52203       dropout_4[0][0]                  \n",
      "====================================================================================================\n",
      "Total params: 656,407\n",
      "Trainable params: 654,903\n",
      "Non-trainable params: 1,504\n",
      "____________________________________________________________________________________________________\n"
     ]
    }
   ],
   "source": [
    "model=load_model('models/cullpdb_Q3_cnn_rnn.hdf5')  \n",
    "model.summary()"
   ]
  },
  {
   "cell_type": "code",
   "execution_count": null,
   "metadata": {
    "ExecuteTime": {
     "start_time": "2018-06-22T12:09:12.011Z"
    }
   },
   "outputs": [
    {
     "name": "stdout",
     "output_type": "stream",
     "text": [
      "____________________________________________________________________________________________________\n",
      "Layer (type)                     Output Shape          Param #     Connected to                     \n",
      "====================================================================================================\n",
      "input_1 (InputLayer)             (None, 13, 30)        0                                            \n",
      "____________________________________________________________________________________________________\n",
      "dropout_1 (Dropout)              (None, 13, 30)        0           input_1[0][0]                    \n",
      "____________________________________________________________________________________________________\n",
      "bidirectional_1 (Bidirectional)  (None, 13, 300)       162900      dropout_1[0][0]                  \n",
      "____________________________________________________________________________________________________\n",
      "AttentionDecoder (AttentionDecod (None, 13, 300)       490800      bidirectional_1[0][0]            \n",
      "____________________________________________________________________________________________________\n",
      "time_distributed_1 (TimeDistribu (None, 13, 600)       180600      AttentionDecoder[0][0]           \n",
      "____________________________________________________________________________________________________\n",
      "dropout_2 (Dropout)              (None, 13, 600)       0           time_distributed_1[0][0]         \n",
      "____________________________________________________________________________________________________\n",
      "input_2 (InputLayer)             (None, 13, 30, 1)     0                                            \n",
      "____________________________________________________________________________________________________\n",
      "flatten_1 (Flatten)              (None, 7800)          0           dropout_2[0][0]                  \n",
      "____________________________________________________________________________________________________\n",
      "model_1 (Model)                  (None, 9600)          283640      input_2[0][0]                    \n",
      "____________________________________________________________________________________________________\n",
      "concatenate_1 (Concatenate)      (None, 17400)         0           flatten_1[0][0]                  \n",
      "                                                                   model_1[1][0]                    \n",
      "____________________________________________________________________________________________________\n",
      "dropout_4 (Dropout)              (None, 17400)         0           concatenate_1[0][0]              \n",
      "____________________________________________________________________________________________________\n",
      "dense_2 (Dense)                  (None, 3)             52203       dropout_4[0][0]                  \n",
      "====================================================================================================\n",
      "Total params: 1,170,143\n",
      "Trainable params: 1,167,631\n",
      "Non-trainable params: 2,512\n",
      "____________________________________________________________________________________________________\n"
     ]
    }
   ],
   "source": [
    "model=load_model('models/cullpdb_Q3_cnn_rnn_att.hdf5')  \n",
    "model.summary()"
   ]
  },
  {
   "cell_type": "code",
   "execution_count": null,
   "metadata": {
    "ExecuteTime": {
     "start_time": "2018-06-22T12:09:12.013Z"
    }
   },
   "outputs": [],
   "source": [
    "model=load_model('models/cullpdb_Q8_cnn_rnn_att.hdf5')  \n",
    "model.summary()"
   ]
  }
 ],
 "metadata": {
  "kernelspec": {
   "display_name": "Python 3",
   "language": "python",
   "name": "python3"
  },
  "language_info": {
   "codemirror_mode": {
    "name": "ipython",
    "version": 3
   },
   "file_extension": ".py",
   "mimetype": "text/x-python",
   "name": "python",
   "nbconvert_exporter": "python",
   "pygments_lexer": "ipython3",
   "version": "3.5.2"
  }
 },
 "nbformat": 4,
 "nbformat_minor": 2
}
