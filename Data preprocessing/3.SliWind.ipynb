{
 "cells": [
  {
   "cell_type": "markdown",
   "metadata": {},
   "source": [
    "# 滑动窗口提取数据-Q3"
   ]
  },
  {
   "cell_type": "code",
   "execution_count": 6,
   "metadata": {
    "ExecuteTime": {
     "end_time": "2018-06-09T03:59:45.655628Z",
     "start_time": "2018-06-09T03:59:45.651417Z"
    }
   },
   "outputs": [],
   "source": [
    "SSlabel=['C','E','H']\n",
    "#SSlabel=['L', 'B', 'E', 'G', 'I', 'H', 'S', 'T']"
   ]
  },
  {
   "cell_type": "code",
   "execution_count": 7,
   "metadata": {
    "ExecuteTime": {
     "end_time": "2018-06-09T03:59:45.762789Z",
     "start_time": "2018-06-09T03:59:45.665934Z"
    }
   },
   "outputs": [],
   "source": [
    "# 滑动窗口提取氨基酸,slidsize必须是奇数\n",
    "\n",
    "def GetSliding(filelist,slidsize):\n",
    "    slidwins=[]\n",
    "    \n",
    "    #滑动取slidsize个\n",
    "    indtmp=0\n",
    "    while (indtmp+slidsize)<=len(filelist):\n",
    "        if filelist[indtmp:indtmp+slidsize].count('emptyamni')==6 and filelist[indtmp:indtmp+slidsize][-1]=='emptyamni':\n",
    "            slidwins.append(filelist[indtmp:indtmp+slidsize])\n",
    "            indtmp=indtmp+7\n",
    "        else:\n",
    "            slidwins.append(filelist[indtmp:indtmp+slidsize])\n",
    "            indtmp=indtmp+1\n",
    "        \n",
    "    return slidwins"
   ]
  },
  {
   "cell_type": "code",
   "execution_count": 8,
   "metadata": {
    "ExecuteTime": {
     "end_time": "2018-06-09T03:59:45.858143Z",
     "start_time": "2018-06-09T03:59:45.764114Z"
    }
   },
   "outputs": [],
   "source": [
    "#对氨基酸列表进行排序\n",
    "def SortedFileList(filename,filelist):\n",
    "    newfilelist=[]\n",
    "    for ind1 in range(len(filelist)):\n",
    "        if filename+'_cha'+str(ind1)+'_amni0' not in filelist:\n",
    "            break\n",
    "        for ind2 in range(len(filelist)):\n",
    "            filenametmp=filename+'_cha'+str(ind1)+'_amni'+str(ind2)\n",
    "            if filenametmp in filelist:\n",
    "                newfilelist.append(filenametmp)\n",
    "            else:\n",
    "                break\n",
    "    return newfilelist"
   ]
  },
  {
   "cell_type": "code",
   "execution_count": 9,
   "metadata": {
    "ExecuteTime": {
     "end_time": "2018-06-09T03:59:46.012520Z",
     "start_time": "2018-06-09T03:59:45.861201Z"
    }
   },
   "outputs": [],
   "source": [
    "def BuildSlidFea(filename,slidsize):\n",
    "\n",
    "#     #filename='cb513'\n",
    "#     filelist=open('0.Featrue/aminslist_%s_Q8v2'%filename).readlines()\n",
    "#     print(filelist[:10])\n",
    "    \n",
    "#     #取氨基酸的名称\n",
    "#     filelist=list(map(lambda file: file.split('&')[0] ,filelist))\n",
    "    \n",
    "#     print('sorte..........')\n",
    "#     #对氨基酸列表进行排序\n",
    "#     newfilelist=SortedFileList(filename,filelist)\n",
    "#     #print(newfilelist[:10])\n",
    "    \n",
    "    addsize=int((slidsize-1)/2)\n",
    "    newfilelist=[]\n",
    "    \n",
    "    chainindnow=0\n",
    "    chainindpre=0\n",
    "    for line in open('1.change/aminslist_%s_Q3.sort'%filename):\n",
    "        line=line.replace('\\n','')\n",
    "        filenametmp=line.split('&')[0]\n",
    "        chainindnow=int(((line.split('&')[0]).split('_')[1]).replace('cha',''))\n",
    "        \n",
    "        if chainindpre+1==chainindnow:\n",
    "            #每条链后加（slidsize-1）/2个\n",
    "            for i in range(addsize):\n",
    "                newfilelist.append('emptyamni')\n",
    "        newfilelist.append(filenametmp)\n",
    "        chainindpre=int(((line.split('&')[0]).split('_')[1]).replace('cha',''))\n",
    "    \n",
    "    #前加（slidsize-1）/2个\n",
    "    addsize=int((slidsize-1)/2)\n",
    "    for i in range(addsize):\n",
    "        newfilelist.insert(0, 'emptyamni') \n",
    "\n",
    "    #后加（slidsize-1）/2个\n",
    "    for i in range(addsize):\n",
    "        newfilelist.append('emptyamni') \n",
    "    \n",
    "    #-----------------------\n",
    "    #窗口滑动\n",
    "    slidwins=GetSliding(newfilelist,slidsize)\n",
    "\n",
    "    print(slidwins[:3])\n",
    "    print(slidwins[-3:])\n",
    "\n",
    "    #----------------------------\n",
    "    #读取氨基酸列表的所有特征\n",
    "    print(filename)\n",
    "    allaminfea=open('1.change/aminsinfo_%s_Q3.sort'%filename).readlines()\n",
    "    \n",
    "    #按字典存储氨基酸特征\n",
    "    allaminfeadic={}\n",
    "    def buildaminfeadic(line):\n",
    "        line=line.replace('\\n','')\n",
    "        line=line.split('&')\n",
    "        return line[0],line[2:]\n",
    "\n",
    "    for aminname,aminfea in  list(map(buildaminfeadic,allaminfea)):\n",
    "        allaminfeadic[aminname]=aminfea\n",
    "\n",
    "    # #添加空氨基酸特征\n",
    "    allaminfeadic['emptyamni']=['None', '0|0|0|0.0|0.0|0.0|0.0|0.0', '0.0|0.0|0.0|0.0|0.0|0.0|0.0|0.0|0.0|0.0|0.0|0.0|0.0|0.0|0.0|0.0|0.0|0.0|0.0|0.0|0.0|0.0']\n",
    "    # print(allaminfeadic['cb513_cha0_amni0'])\n",
    "\n",
    "    #------------------------------\n",
    "    #提取滑动窗口的特征和标签，并存储\n",
    "    fw_fea=open('2.Sliding/%s_slidfea_Q3'%filename,'w')\n",
    "    fw_lab=open('2.Sliding/%s_slidlab_Q3'%filename,'w')\n",
    "    fw_wind=open('2.Sliding/%s_slidwind_Q3'%filename,'w')\n",
    "\n",
    "    for slidwin in slidwins:\n",
    "        slidwinfea=[]\n",
    "\n",
    "        #读取一个窗口的所有特征\n",
    "        for amino in slidwin:\n",
    "            #读取某个氨基酸的特征\n",
    "            aminofea=allaminfeadic[amino][1].split('|')+allaminfeadic[amino][2].split('|')\n",
    "            slidwinfea.extend(aminofea)\n",
    "        \n",
    "        #print('here',slidwin[int((len(slidwin)-1)/2)],slidwin)\n",
    "        aminolab=SSlabel.index(allaminfeadic[slidwin[int((len(slidwin)-1)/2)]][0])\n",
    "\n",
    "        fw_fea.write(','.join(list(map(str,slidwinfea)))+'\\n')\n",
    "        fw_lab.write(str(aminolab)+'\\n')\n",
    "        fw_wind.write('-'.join(slidwin)+'\\n')\n",
    "    fw_fea.close()\n",
    "    fw_lab.close()\n",
    "    fw_wind.close()"
   ]
  },
  {
   "cell_type": "code",
   "execution_count": 10,
   "metadata": {
    "ExecuteTime": {
     "end_time": "2018-06-09T04:01:16.684376Z",
     "start_time": "2018-06-09T03:59:46.014058Z"
    }
   },
   "outputs": [
    {
     "name": "stdout",
     "output_type": "stream",
     "text": [
      "[['emptyamni', 'emptyamni', 'emptyamni', 'emptyamni', 'emptyamni', 'emptyamni', 'cb513_cha0_amni0', 'cb513_cha0_amni1', 'cb513_cha0_amni2', 'cb513_cha0_amni3', 'cb513_cha0_amni4', 'cb513_cha0_amni5', 'cb513_cha0_amni6'], ['emptyamni', 'emptyamni', 'emptyamni', 'emptyamni', 'emptyamni', 'cb513_cha0_amni0', 'cb513_cha0_amni1', 'cb513_cha0_amni2', 'cb513_cha0_amni3', 'cb513_cha0_amni4', 'cb513_cha0_amni5', 'cb513_cha0_amni6', 'cb513_cha0_amni7'], ['emptyamni', 'emptyamni', 'emptyamni', 'emptyamni', 'cb513_cha0_amni0', 'cb513_cha0_amni1', 'cb513_cha0_amni2', 'cb513_cha0_amni3', 'cb513_cha0_amni4', 'cb513_cha0_amni5', 'cb513_cha0_amni6', 'cb513_cha0_amni7', 'cb513_cha0_amni8']]\n",
      "[['cb513_cha513_amni45', 'cb513_cha513_amni46', 'cb513_cha513_amni47', 'cb513_cha513_amni48', 'cb513_cha513_amni49', 'cb513_cha513_amni50', 'cb513_cha513_amni51', 'cb513_cha513_amni52', 'cb513_cha513_amni53', 'emptyamni', 'emptyamni', 'emptyamni', 'emptyamni'], ['cb513_cha513_amni46', 'cb513_cha513_amni47', 'cb513_cha513_amni48', 'cb513_cha513_amni49', 'cb513_cha513_amni50', 'cb513_cha513_amni51', 'cb513_cha513_amni52', 'cb513_cha513_amni53', 'emptyamni', 'emptyamni', 'emptyamni', 'emptyamni', 'emptyamni'], ['cb513_cha513_amni47', 'cb513_cha513_amni48', 'cb513_cha513_amni49', 'cb513_cha513_amni50', 'cb513_cha513_amni51', 'cb513_cha513_amni52', 'cb513_cha513_amni53', 'emptyamni', 'emptyamni', 'emptyamni', 'emptyamni', 'emptyamni', 'emptyamni']]\n",
      "cb513\n",
      "[['emptyamni', 'emptyamni', 'emptyamni', 'emptyamni', 'emptyamni', 'emptyamni', 'cullpdb_cha0_amni0', 'cullpdb_cha0_amni1', 'cullpdb_cha0_amni2', 'cullpdb_cha0_amni3', 'cullpdb_cha0_amni4', 'cullpdb_cha0_amni5', 'cullpdb_cha0_amni6'], ['emptyamni', 'emptyamni', 'emptyamni', 'emptyamni', 'emptyamni', 'cullpdb_cha0_amni0', 'cullpdb_cha0_amni1', 'cullpdb_cha0_amni2', 'cullpdb_cha0_amni3', 'cullpdb_cha0_amni4', 'cullpdb_cha0_amni5', 'cullpdb_cha0_amni6', 'cullpdb_cha0_amni7'], ['emptyamni', 'emptyamni', 'emptyamni', 'emptyamni', 'cullpdb_cha0_amni0', 'cullpdb_cha0_amni1', 'cullpdb_cha0_amni2', 'cullpdb_cha0_amni3', 'cullpdb_cha0_amni4', 'cullpdb_cha0_amni5', 'cullpdb_cha0_amni6', 'cullpdb_cha0_amni7', 'cullpdb_cha0_amni8']]\n",
      "[['cullpdb_cha5533_amni186', 'cullpdb_cha5533_amni187', 'cullpdb_cha5533_amni188', 'cullpdb_cha5533_amni189', 'cullpdb_cha5533_amni190', 'cullpdb_cha5533_amni191', 'cullpdb_cha5533_amni192', 'cullpdb_cha5533_amni193', 'cullpdb_cha5533_amni194', 'emptyamni', 'emptyamni', 'emptyamni', 'emptyamni'], ['cullpdb_cha5533_amni187', 'cullpdb_cha5533_amni188', 'cullpdb_cha5533_amni189', 'cullpdb_cha5533_amni190', 'cullpdb_cha5533_amni191', 'cullpdb_cha5533_amni192', 'cullpdb_cha5533_amni193', 'cullpdb_cha5533_amni194', 'emptyamni', 'emptyamni', 'emptyamni', 'emptyamni', 'emptyamni'], ['cullpdb_cha5533_amni188', 'cullpdb_cha5533_amni189', 'cullpdb_cha5533_amni190', 'cullpdb_cha5533_amni191', 'cullpdb_cha5533_amni192', 'cullpdb_cha5533_amni193', 'cullpdb_cha5533_amni194', 'emptyamni', 'emptyamni', 'emptyamni', 'emptyamni', 'emptyamni', 'emptyamni']]\n",
      "cullpdb\n"
     ]
    }
   ],
   "source": [
    "slidsize=13\n",
    "BuildSlidFea('cb513',slidsize)\n",
    "BuildSlidFea('cullpdb',slidsize)"
   ]
  },
  {
   "cell_type": "markdown",
   "metadata": {
    "ExecuteTime": {
     "end_time": "2018-05-26T02:26:10.618731Z",
     "start_time": "2018-05-26T02:26:10.576227Z"
    },
    "scrolled": false
   },
   "source": [
    "slidsize=13\n",
    "filename='cb513'\n",
    "\n",
    "addsize=int((slidsize-1)/2)\n",
    "\n",
    "newfilelist=[]\n",
    "chainindnow=0\n",
    "chainindpre=0\n",
    "for line in open('0.Featrue/aminslist_%s_Q8v3'%filename):\n",
    "    line=line.replace('\\n','')\n",
    "    filenametmp=line.split('&')[0]\n",
    "    chainindnow=int(((line.split('&')[0]).split('_')[1]).replace('cha',''))\n",
    "        \n",
    "    if chainindpre+1==chainindnow:\n",
    "        #每条链后加（slidsize-1）/2个\n",
    "        for i in range(addsize):\n",
    "            newfilelist.append('emptyamni')\n",
    "    newfilelist.append(filenametmp)\n",
    "    chainindpre=int(((line.split('&')[0]).split('_')[1]).replace('cha',''))\n",
    "print(newfilelist[:100])\n",
    "\n",
    "#前加（slidsize-1）/2个\n",
    "addsize=int((slidsize-1)/2)\n",
    "for i in range(addsize):\n",
    "    newfilelist.insert(0, 'emptyamni') \n",
    "\n",
    "#后加（slidsize-1）/2个\n",
    "for i in range(addsize):\n",
    "    newfilelist.append('emptyamni') \n",
    "#窗口滑动\n",
    "slidwins=GetSliding(newfilelist,slidsize)\n",
    "\n",
    "print(slidwins[65:70])"
   ]
  }
 ],
 "metadata": {
  "kernelspec": {
   "display_name": "Python 3",
   "language": "python",
   "name": "python3"
  },
  "language_info": {
   "codemirror_mode": {
    "name": "ipython",
    "version": 3
   },
   "file_extension": ".py",
   "mimetype": "text/x-python",
   "name": "python",
   "nbconvert_exporter": "python",
   "pygments_lexer": "ipython3",
   "version": "3.5.2"
  },
  "varInspector": {
   "cols": {
    "lenName": 16,
    "lenType": 16,
    "lenVar": 40
   },
   "kernels_config": {
    "python": {
     "delete_cmd_postfix": "",
     "delete_cmd_prefix": "del ",
     "library": "var_list.py",
     "varRefreshCmd": "print(var_dic_list())"
    },
    "r": {
     "delete_cmd_postfix": ") ",
     "delete_cmd_prefix": "rm(",
     "library": "var_list.r",
     "varRefreshCmd": "cat(var_dic_list()) "
    }
   },
   "types_to_exclude": [
    "module",
    "function",
    "builtin_function_or_method",
    "instance",
    "_Feature"
   ],
   "window_display": false
  }
 },
 "nbformat": 4,
 "nbformat_minor": 2
}
