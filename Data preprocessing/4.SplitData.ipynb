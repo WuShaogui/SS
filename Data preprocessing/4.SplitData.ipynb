{
 "cells": [
  {
   "cell_type": "code",
   "execution_count": 1,
   "metadata": {
    "ExecuteTime": {
     "end_time": "2018-06-09T04:24:21.078248Z",
     "start_time": "2018-06-09T04:24:21.043107Z"
    }
   },
   "outputs": [],
   "source": [
    "#读取样本特征\n",
    "\n",
    "def ReadSample(filename):\n",
    "    #filename='cb513'\n",
    "\n",
    "    # 读取样本特征\n",
    "    allfea=[]\n",
    "    alllab=[]\n",
    "    \n",
    "    for fea in open('2.Sliding/%s_slidfea_Q3'%filename):\n",
    "        fea=fea.replace('\\n','')\n",
    "        fea=fea.split(',')\n",
    "        fea=list(map(float,fea))\n",
    "#         print(fea)\n",
    "#         return _,_\n",
    "        allfea.append(np.array(fea))\n",
    "\n",
    "    for lab in open('2.Sliding/%s_slidlab_Q3'%filename):\n",
    "        lab=lab.replace('\\n','')\n",
    "        alllab.append(np.array(lab))\n",
    "    \n",
    "#     def getfea(line):\n",
    "#         line=line.replace('\\n','')\n",
    "#         line=line.split(',')\n",
    "#         line=list(map(float,line))\n",
    "#         return line\n",
    "\n",
    "#     for fea in list(map(getfea,open('2.Sliding/%s_slidfea_v3'%filename).readlines())):\n",
    "#         allfea.append(fea)\n",
    "\n",
    "#     for lab in list(map(lambda line:line.replace('\\n',''),open('2.Sliding/%s_slidlab_v3'%filename).readlines())):\n",
    "#         alllab.append(lab)\n",
    "\n",
    "    allfea=np.array(allfea)\n",
    "    alllab=np.array(alllab)\n",
    "    \n",
    "    return allfea,alllab"
   ]
  },
  {
   "cell_type": "code",
   "execution_count": 2,
   "metadata": {
    "ExecuteTime": {
     "end_time": "2018-06-09T04:35:01.510391Z",
     "start_time": "2018-06-09T04:24:21.080223Z"
    }
   },
   "outputs": [
    {
     "name": "stdout",
     "output_type": "stream",
     "text": [
      "read done!\n",
      "(84119, 390) (84119,) (1183318, 390) (1183318,)\n",
      "scale done!\n",
      "split done!\n",
      "all done!\n"
     ]
    }
   ],
   "source": [
    "import numpy as np\n",
    "from sklearn import preprocessing\n",
    "from sklearn.model_selection import train_test_split\n",
    "from sklearn.utils import shuffle\n",
    "\n",
    "cb513fea, cb513lab = ReadSample('cb513')\n",
    "cullpdbfea, cullpdblab = ReadSample('cullpdb')\n",
    "print('read done!')\n",
    "print(cb513fea.shape, cb513lab.shape, cullpdbfea.shape, cullpdblab.shape)\n",
    "\n",
    "#按列进行标准化\n",
    "cb513fea_scaled = preprocessing.scale(cb513fea)\n",
    "cullpdbfea_scaled = preprocessing.scale(cullpdbfea)\n",
    "print('scale done!')\n",
    "\n",
    "#cullpdb+cb513 Model(test)\n",
    "np.savez(\n",
    "    \"3.Data/cb513_test_Q3.npz\", cb513fea=cb513fea_scaled, cb513lab=cb513lab)\n",
    "\n",
    "#随机打乱数据\n",
    "cullpdb_train, cullpdb_label = shuffle(cullpdbfea_scaled, cullpdblab)\n",
    "cb513_train, cb513_label = shuffle(cb513fea_scaled, cb513lab)\n",
    "\n",
    "#快速随机划分数据\n",
    "cullpdb_train_X, cullpdb_vali_X, cullpdb_train_y, cullpdb_vali_y = train_test_split(\n",
    "    cullpdb_train, cullpdb_label, test_size=0.1, random_state=0)\n",
    "\n",
    "cb513_train_X, cb513_vali_X, cb513_train_y, cb513_vali_y = train_test_split(\n",
    "    cb513_train, cb513_label, test_size=0.1, random_state=0)\n",
    "print('split done!')\n",
    "\n",
    "#cullpdb Model(train/vali) + cullpdb+cb513 Model(train/vali)\n",
    "np.savez(\"3.Data/cullpdb_train_Q3.npz\", train_X=cullpdb_train_X, train_y=cullpdb_train_y)\n",
    "np.savez(\"3.Data/cullpdb_vali_Q3.npz\", vali_X=cullpdb_vali_X, vali_y=cullpdb_vali_y)\n",
    "\n",
    "#cb513 Model(train/vali)\n",
    "np.savez(\"3.Data/cb513_train_Q3.npz\", cb513fea=cb513_train_X, cb513lab=cb513_train_y)\n",
    "np.savez(\"3.Data/cb513_vali_Q3.npz\", cb513fea=cb513_vali_X, cb513lab=cb513_vali_y)\n",
    "\n",
    "print('all done!')"
   ]
  },
  {
   "cell_type": "code",
   "execution_count": 3,
   "metadata": {
    "ExecuteTime": {
     "end_time": "2018-06-09T04:35:04.249962Z",
     "start_time": "2018-06-09T04:35:02.658014Z"
    }
   },
   "outputs": [],
   "source": [
    "# cb513fea,cb513lab=ReadSample('cb513')\n",
    "# print('Read done cb513')\n",
    "# np.savez(\"cb513_AllData_Q3.npz\",cb513fea=cb513fea,cb513lab=cb513lab)\n",
    "\n",
    "# cullpdbfea,cullpdblab=ReadSample('cullpdb')\n",
    "# print('Read done cullpdb')\n",
    "# np.savez(\"cullpdb_AllData_Q3.npz\",cullpdbfea=cullpdbfea,cullpdblab=cullpdblab)"
   ]
  },
  {
   "cell_type": "code",
   "execution_count": null,
   "metadata": {},
   "outputs": [],
   "source": [
    "\n",
    "\n"
   ]
  }
 ],
 "metadata": {
  "kernelspec": {
   "display_name": "Python 3",
   "language": "python",
   "name": "python3"
  },
  "language_info": {
   "codemirror_mode": {
    "name": "ipython",
    "version": 3
   },
   "file_extension": ".py",
   "mimetype": "text/x-python",
   "name": "python",
   "nbconvert_exporter": "python",
   "pygments_lexer": "ipython3",
   "version": "3.5.2"
  },
  "varInspector": {
   "cols": {
    "lenName": 16,
    "lenType": 16,
    "lenVar": 40
   },
   "kernels_config": {
    "python": {
     "delete_cmd_postfix": "",
     "delete_cmd_prefix": "del ",
     "library": "var_list.py",
     "varRefreshCmd": "print(var_dic_list())"
    },
    "r": {
     "delete_cmd_postfix": ") ",
     "delete_cmd_prefix": "rm(",
     "library": "var_list.r",
     "varRefreshCmd": "cat(var_dic_list()) "
    }
   },
   "types_to_exclude": [
    "module",
    "function",
    "builtin_function_or_method",
    "instance",
    "_Feature"
   ],
   "window_display": false
  }
 },
 "nbformat": 4,
 "nbformat_minor": 2
}
