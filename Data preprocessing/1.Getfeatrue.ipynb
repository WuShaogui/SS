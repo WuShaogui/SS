{
 "cells": [
  {
   "cell_type": "markdown",
   "metadata": {},
   "source": [
    "# 提取每条链的所有氨基酸的特征\n",
    "\n",
    "如：cb513的第一条链的第一个氨基酸\n",
    "\n",
    "cb513_cha0_amni0&V&9|3|2|2.5|-0.523|0.10365945641690333|-0.18643152963488993|-0.47042481056671664&0.2141650169574414|0.17079548202237446|0.022977369910025615|0.04653047451473147|0.8641271029909058|0.02231343869903224|0.13354172253321245|0.8869541699279211|0.0623858513799944|0.9248398905178734|0.7310585786300049|0.03356922328148252|0.042289771842033794|0.07516010948212662|0.06476696860678553|0.08548913943480654|0.2573094546973142|0.9234378026481879|0.27091207765069353|0.2689414213699951|0.9234378026481879|0.0"
   ]
  },
  {
   "cell_type": "code",
   "execution_count": 24,
   "metadata": {
    "ExecuteTime": {
     "end_time": "2018-06-09T01:11:13.667801Z",
     "start_time": "2018-06-09T01:11:13.633119Z"
    }
   },
   "outputs": [],
   "source": [
    "import numpy as np\n",
    "import gzip\n",
    "from math import log\n",
    "\n",
    "#氨基酸列表\n",
    "Amino=['A', 'C', 'E', 'D', 'G', 'F', 'I', 'H', 'K', 'M', 'L', 'N', 'Q', 'P', 'S', 'R', 'T', 'W', 'V', 'Y', 'A']\n",
    "\n",
    "# 氨基酸的3个非数值特征\n",
    "Sidechainclass=sorted(['acid','aliphatic','amide','aromatic','basic','basic-aromatic','cyclic','hydroxyl-containing','sulfur-containing'])\n",
    "Sidechainpola=sorted(['acidic-polar','basic-polar','nonpolar','polar'])\n",
    "Sidechainchar=sorted(['neutral','positive','negative'])\n",
    "\n",
    "# 把positive(10%)neutral(90%)当做一个新的特征Sidechainchar\n",
    "Sidechainchartmp=sorted(['neutral','positive','negative','positive(10%)neutral(90%)'])\n",
    "\n",
    "#二级结构标签\n",
    "SSLabletmp=['L', 'B', 'E', 'G', 'I', 'H', 'S', 'T']\n",
    "SSLable={'C':['L','S','T'],'E':['B','E'],'H':['G','I','H']}\n",
    "\n",
    "\n",
    "# 读取氨基酸6维属性，非6大类，每个氨基酸有6维特征，\n",
    "aminoacid={}\n",
    "for line in open('aminoacid'):\n",
    "    line=line.replace('\\n','')\n",
    "    line=line.split()\n",
    "    # print(line,len(line))\n",
    "    aminoacid[line[1].upper()]=line[2:6]\n",
    "    aminoacid[line[1].upper()].extend(line[8:10])"
   ]
  },
  {
   "cell_type": "code",
   "execution_count": 25,
   "metadata": {
    "ExecuteTime": {
     "end_time": "2018-06-09T01:11:13.759771Z",
     "start_time": "2018-06-09T01:11:13.669806Z"
    }
   },
   "outputs": [],
   "source": [
    "def GetSSlable(sslabletmp):\n",
    "    if sslabletmp in SSLable['C']:\n",
    "        return 'C'\n",
    "    elif sslabletmp in SSLable['E']:\n",
    "        return 'E'\n",
    "    elif sslabletmp in SSLable['H']:\n",
    "        return 'H'\n",
    "    else:\n",
    "        return 'None'"
   ]
  },
  {
   "cell_type": "code",
   "execution_count": 26,
   "metadata": {
    "ExecuteTime": {
     "end_time": "2018-06-09T01:11:13.844987Z",
     "start_time": "2018-06-09T01:11:13.761406Z"
    }
   },
   "outputs": [],
   "source": [
    "#读取数据\n",
    "def load_gz(filepath):  \n",
    "    f=gzip.open(filepath,'rb')\n",
    "    \n",
    "    return np.load(f)"
   ]
  },
  {
   "cell_type": "code",
   "execution_count": 27,
   "metadata": {
    "ExecuteTime": {
     "end_time": "2018-06-09T01:11:13.912349Z",
     "start_time": "2018-06-09T01:11:13.848780Z"
    }
   },
   "outputs": [],
   "source": [
    "#分析某一条链上的氨基酸\n",
    "\n",
    "def GetAminInfo(chaininfo,chainname):\n",
    "    amininfo={}\n",
    "    \n",
    "    for poiind in range(len(chaininfo)):\n",
    "        aminind=(chaininfo[poiind][:22].tolist()).index(1)\n",
    "        if aminind>20:\n",
    "            continue\n",
    "        else:\n",
    "            aminname=Amino[aminind]\n",
    "            sslabel=GetSSlable(SSLabletmp[(chaininfo[poiind][22:31].tolist()).index(1)])\n",
    "            pssm=(chaininfo[poiind][35:57]).tolist()\n",
    "        \n",
    "        amininfo[chainname+'_amni%s'%poiind]=[aminname,sslabel,pssm]\n",
    "    return amininfo"
   ]
  },
  {
   "cell_type": "code",
   "execution_count": 28,
   "metadata": {
    "ExecuteTime": {
     "end_time": "2018-06-09T01:11:14.004208Z",
     "start_time": "2018-06-09T01:11:13.916214Z"
    }
   },
   "outputs": [],
   "source": [
    "#统计每类氨基酸在某一二级结构下出现的次数\n",
    "\n",
    "def CountSSlabel(chainaminsinfo):\n",
    "    \n",
    "    Conutsslabletmp={}\n",
    "    \n",
    "    for amininfo in sorted(chainaminsinfo):\n",
    "        amin=chainaminsinfo[amininfo][0]\n",
    "        sslabel=chainaminsinfo[amininfo][1]\n",
    "        \n",
    "        if sslabel in Conutsslabletmp:\n",
    "            if amin in Conutsslabletmp[sslabel]:\n",
    "                Conutsslabletmp[sslabel][amin]+=1\n",
    "            else:\n",
    "                Conutsslabletmp[sslabel][amin]=1\n",
    "        else:\n",
    "            Conutsslabletmp[sslabel]={}\n",
    "            Conutsslabletmp[sslabel][amin]=1\n",
    "    return Conutsslabletmp"
   ]
  },
  {
   "cell_type": "code",
   "execution_count": 29,
   "metadata": {
    "ExecuteTime": {
     "end_time": "2018-06-09T01:11:14.087521Z",
     "start_time": "2018-06-09T01:11:14.007502Z"
    }
   },
   "outputs": [],
   "source": [
    "# 获取某个氨基酸的8维特征\n",
    "\n",
    "def GetAminFea(amin,Conutallsslable):\n",
    "    aminfea=[]\n",
    "    \n",
    "    #前面5维特征\n",
    "    for feaind in range(len(aminoacid[amin])-1):\n",
    "        if feaind==0:\n",
    "            aminfea.append(Sidechainclass.index(aminoacid[amin][feaind])+1)\n",
    "        if feaind==1:\n",
    "            aminfea.append(Sidechainpola.index(aminoacid[amin][feaind])+1)\n",
    "        if feaind==2:\n",
    "            aminfea.append(Sidechainchartmp.index(aminoacid[amin][feaind])+1)\n",
    "        if feaind>2:\n",
    "            aminfea.append(aminoacid[amin][feaind])\n",
    "    #后面三维统计特征\n",
    "    for sslable in SSLable:\n",
    "        rates=log(float(aminoacid[amin][-1])*1.0/(Conutallsslable[sslable][amin]*100.0/sum(Conutallsslable[sslable].values())))\n",
    "        aminfea.append(rates)\n",
    "    return aminfea"
   ]
  },
  {
   "cell_type": "code",
   "execution_count": 30,
   "metadata": {
    "ExecuteTime": {
     "end_time": "2018-06-09T01:11:14.170981Z",
     "start_time": "2018-06-09T01:11:14.091133Z"
    }
   },
   "outputs": [],
   "source": [
    "#_____**没有使用**_______统计所有文件中每类氨基酸在某一二级结构下出现的次数\n",
    "def CountAllSSlabel():\n",
    "    Conutsslable={}\n",
    "    \n",
    "    cb513=load_gz('cb513.npy.gz')\n",
    "    cb513=cb513.reshape(cb513.shape[0],700,57)\n",
    "    #跑一遍，处理统计信息\n",
    "    for aminind  in range(len(cb513)):\n",
    "        #分析某一条链上的氨基酸\n",
    "        chainaminsinfo=GetAminInfo(cb513[aminind],'%s_cha%s'%('cb513.npy.gz',aminind))\n",
    "\n",
    "        #统计每类氨基酸在某一二级结构下出现的次数\n",
    "        Conutsslable['%s_cha%s'%('cb513.npy.gz',aminind)]=CountSSlabel(chainaminsinfo,Conutsslable)\n",
    "\n",
    "    cullpdb=load_gz('cullpdb.npy.gz')\n",
    "    cullpdb=cullpdb.reshape(cullpdb.shape[0],700,57)\n",
    "    #跑一遍，处理统计信息\n",
    "    for aminind  in range(len(cullpdb)):\n",
    "        #分析某一条链上的氨基酸\n",
    "        chainaminsinfo=GetAminInfo(cullpdb[aminind],'%s_cha%s'%('cullpdb.npy.gz',aminind))\n",
    "\n",
    "        #统计每类氨基酸在某一二级结构下出现的次数\n",
    "        Conutsslable['%s_cha%s'%('cb513.npy.gz',aminind)]=CountSSlabel(chainaminsinfo,Conutsslable)\n",
    "    \n",
    "    return Conutsslable"
   ]
  },
  {
   "cell_type": "code",
   "execution_count": 31,
   "metadata": {
    "ExecuteTime": {
     "end_time": "2018-06-09T01:11:14.255581Z",
     "start_time": "2018-06-09T01:11:14.173519Z"
    }
   },
   "outputs": [],
   "source": [
    "def GetAlllSSlabel(filename):\n",
    "    filenametmp='Oridata/'+filename+'.npy.gz'\n",
    "    cb513=load_gz(filenametmp)\n",
    "    cb513=cb513.reshape(cb513.shape[0],700,57)\n",
    "    \n",
    "    Conutallsslable={}\n",
    "    #先跑一遍，处理统计信息\n",
    "    for aminind  in range(len(cb513)):\n",
    "        #最后一条链取倒数54个\n",
    "        if 'cb513' in filename and aminind==len(cb513)-1:\n",
    "            calaminInfo=cb513[aminind][-54:]\n",
    "        else:\n",
    "            calaminInfo=cb513[aminind]\n",
    "        \n",
    "        #分析某一条链上的氨基酸\n",
    "        chainaminsinfo=GetAminInfo(calaminInfo,'%s_cha%s'%(filename,aminind))\n",
    "\n",
    "        #统计每类氨基酸在某一二级结构下出现的次数\n",
    "        Conutallsslabletmp=CountSSlabel(chainaminsinfo)\n",
    "        \n",
    "        #更新每类氨基酸在某一二级结构下出现的次数\n",
    "        for sslable in SSLable:\n",
    "            for amino in set(Amino):\n",
    "                if sslable in Conutallsslabletmp and amino in Conutallsslabletmp[sslable]:\n",
    "                    if sslable in Conutallsslable:\n",
    "                        if amino in Conutallsslable[sslable]:\n",
    "                            Conutallsslable[sslable][amino]+=Conutallsslabletmp[sslable][amino]\n",
    "                        else:\n",
    "                            #Conutallsslable[sslable]={}\n",
    "                            Conutallsslable[sslable][amino]=Conutallsslabletmp[sslable][amino]\n",
    "                    else:\n",
    "                        Conutallsslable[sslable]={}\n",
    "                        Conutallsslable[sslable][amino]=Conutallsslabletmp[sslable][amino]\n",
    "    return Conutallsslable"
   ]
  },
  {
   "cell_type": "code",
   "execution_count": 32,
   "metadata": {
    "ExecuteTime": {
     "end_time": "2018-06-09T01:11:14.338793Z",
     "start_time": "2018-06-09T01:11:14.258676Z"
    }
   },
   "outputs": [],
   "source": [
    "#构建某个文件的所有链的所有氨基酸特征\n",
    "def BuildFea(filename,Conutallsslable):\n",
    "    \n",
    "    filenametmp='Oridata/'+filename+'.npy.gz'\n",
    "    cb513=load_gz(filenametmp)\n",
    "    cb513=cb513.reshape(cb513.shape[0],700,57)\n",
    "\n",
    "    fw_fea=open('0.Featrue/aminsinfo_%s_Q3'%filename,'w')\n",
    "    fw_list=open('0.Featrue/aminslist_%s_Q3'%filename,'w')\n",
    "    \n",
    "#     Conutallsslable={}\n",
    "#     #先跑一遍，处理统计信息\n",
    "#     for aminind  in range(len(cb513)):\n",
    "#         #最后一条链取倒数54个\n",
    "#         if 'cb513' in filename and aminind==len(cb513)-1:\n",
    "#             calaminInfo=cb513[aminind][-54:]\n",
    "#         else:\n",
    "#             calaminInfo=cb513[aminind]\n",
    "        \n",
    "#         #分析某一条链上的氨基酸\n",
    "#         chainaminsinfo=GetAminInfo(calaminInfo,'%s_cha%s'%(filename,aminind))\n",
    "\n",
    "#         #统计每类氨基酸在某一二级结构下出现的次数\n",
    "#         Conutallsslabletmp=CountSSlabel(chainaminsinfo)\n",
    "        \n",
    "#         #更新每类氨基酸在某一二级结构下出现的次数\n",
    "#         for sslable in SSLable:\n",
    "#             for amino in set(Amino):\n",
    "#                 if sslable in Conutallsslabletmp and amino in Conutallsslabletmp[sslable]:\n",
    "#                     if sslable in Conutallsslable:\n",
    "#                         if amino in Conutallsslable[sslable]:\n",
    "#                             Conutallsslable[sslable][amino]+=Conutallsslabletmp[sslable][amino]\n",
    "#                         else:\n",
    "#                             #Conutallsslable[sslable]={}\n",
    "#                             Conutallsslable[sslable][amino]=Conutallsslabletmp[sslable][amino]\n",
    "#                     else:\n",
    "#                         Conutallsslable[sslable]={}\n",
    "#                         Conutallsslable[sslable][amino]=Conutallsslabletmp[sslable][amino]\n",
    "        \n",
    "\n",
    "    #再跑一遍，存储特征\n",
    "    for aminind  in range(len(cb513)):\n",
    "        \n",
    "        #最后一条链取倒数54个\n",
    "        if 'cb513' in filename and aminind==len(cb513)-1:\n",
    "            calaminInfo=cb513[aminind][-54:]\n",
    "        else:\n",
    "            calaminInfo=cb513[aminind]       \n",
    "        \n",
    "        #分析某一条链上的氨基酸\n",
    "        chainaminsinfo=GetAminInfo(calaminInfo,'%s_cha%s'%(filename,aminind))\n",
    "\n",
    "        #存储到文件上\n",
    "        for amininfo in sorted(chainaminsinfo):\n",
    "            #氨基酸本身特征\n",
    "            aminfea=GetAminFea(chainaminsinfo[amininfo][0],Conutallsslable)\n",
    "            \n",
    "            allamininfo=amininfo+'&'+chainaminsinfo[amininfo][0]+'&'+chainaminsinfo[amininfo][1]+'&'+'|'.join(list(map(str,aminfea)))+'&'+'|'.join(list(map(str,chainaminsinfo[amininfo][2])))\n",
    "            fw_fea.write(allamininfo+'\\n')\n",
    "            fw_list.write(amininfo+'&'+chainaminsinfo[amininfo][0]+'&'+chainaminsinfo[amininfo][1]+'\\n')\n",
    "    fw_fea.close()\n",
    "    fw_list.close()\n",
    "    \n",
    "    print('filename,Conutallsslable: ',filename,Conutallsslable,sum(Conutallsslable['C'].values()),sum(Conutallsslable['E'].values()),sum(Conutallsslable['H'].values()))\n",
    "    print(sum(Conutallsslable['C'].values())+sum(Conutallsslable['E'].values())+sum(Conutallsslable['H'].values()))"
   ]
  },
  {
   "cell_type": "code",
   "execution_count": 33,
   "metadata": {
    "ExecuteTime": {
     "end_time": "2018-06-09T01:11:14.431830Z",
     "start_time": "2018-06-09T01:11:14.341609Z"
    }
   },
   "outputs": [],
   "source": [
    "#Conutallsslable=CountAllSSlabel()"
   ]
  },
  {
   "cell_type": "code",
   "execution_count": 34,
   "metadata": {
    "ExecuteTime": {
     "end_time": "2018-06-09T01:11:25.921676Z",
     "start_time": "2018-06-09T01:11:14.435090Z"
    }
   },
   "outputs": [],
   "source": [
    "Conutallsslable=GetAlllSSlabel('cullpdb')"
   ]
  },
  {
   "cell_type": "code",
   "execution_count": 35,
   "metadata": {
    "ExecuteTime": {
     "end_time": "2018-06-09T01:12:08.691354Z",
     "start_time": "2018-06-09T01:11:25.923334Z"
    }
   },
   "outputs": [
    {
     "name": "stdout",
     "output_type": "stream",
     "text": [
      "filename,Conutallsslable:  cb513 {'C': {'A': 32029, 'I': 15563, 'D': 37728, 'G': 55470, 'W': 4993, 'Y': 12691, 'S': 33905, 'R': 20321, 'T': 27255, 'N': 28515, 'E': 26189, 'L': 28614, 'V': 20120, 'C': 5439, 'M': 5900, 'P': 36914, 'Q': 14916, 'F': 14221, 'K': 25595, 'H': 11881}, 'E': {'A': 18862, 'I': 26725, 'D': 8966, 'G': 13012, 'W': 4913, 'Y': 13486, 'S': 14062, 'R': 12633, 'T': 17887, 'N': 7205, 'E': 12733, 'L': 27783, 'V': 35583, 'C': 4350, 'M': 4232, 'P': 5566, 'Q': 7661, 'F': 15701, 'K': 12261, 'H': 6288}, 'H': {'A': 55059, 'I': 26371, 'D': 23820, 'G': 16239, 'W': 6860, 'Y': 15923, 'S': 22080, 'R': 27293, 'T': 18894, 'N': 14901, 'E': 41980, 'L': 54339, 'V': 27324, 'C': 4686, 'M': 8739, 'P': 11127, 'Q': 21755, 'F': 18562, 'K': 29760, 'H': 9438}} 458259 269909 455150\n",
      "1183318\n",
      "filename,Conutallsslable:  cullpdb {'C': {'A': 32029, 'I': 15563, 'D': 37728, 'G': 55470, 'W': 4993, 'Y': 12691, 'S': 33905, 'R': 20321, 'T': 27255, 'N': 28515, 'E': 26189, 'L': 28614, 'V': 20120, 'C': 5439, 'M': 5900, 'P': 36914, 'Q': 14916, 'F': 14221, 'K': 25595, 'H': 11881}, 'E': {'A': 18862, 'I': 26725, 'D': 8966, 'G': 13012, 'W': 4913, 'Y': 13486, 'S': 14062, 'R': 12633, 'T': 17887, 'N': 7205, 'E': 12733, 'L': 27783, 'V': 35583, 'C': 4350, 'M': 4232, 'P': 5566, 'Q': 7661, 'F': 15701, 'K': 12261, 'H': 6288}, 'H': {'A': 55059, 'I': 26371, 'D': 23820, 'G': 16239, 'W': 6860, 'Y': 15923, 'S': 22080, 'R': 27293, 'T': 18894, 'N': 14901, 'E': 41980, 'L': 54339, 'V': 27324, 'C': 4686, 'M': 8739, 'P': 11127, 'Q': 21755, 'F': 18562, 'K': 29760, 'H': 9438}} 458259 269909 455150\n",
      "1183318\n"
     ]
    }
   ],
   "source": [
    "BuildFea('cb513',Conutallsslable)\n",
    "BuildFea('cullpdb',Conutallsslable)"
   ]
  }
 ],
 "metadata": {
  "kernelspec": {
   "display_name": "Python 3",
   "language": "python",
   "name": "python3"
  },
  "language_info": {
   "codemirror_mode": {
    "name": "ipython",
    "version": 3
   },
   "file_extension": ".py",
   "mimetype": "text/x-python",
   "name": "python",
   "nbconvert_exporter": "python",
   "pygments_lexer": "ipython3",
   "version": "3.5.2"
  },
  "varInspector": {
   "cols": {
    "lenName": 16,
    "lenType": 16,
    "lenVar": 40
   },
   "kernels_config": {
    "python": {
     "delete_cmd_postfix": "",
     "delete_cmd_prefix": "del ",
     "library": "var_list.py",
     "varRefreshCmd": "print(var_dic_list())"
    },
    "r": {
     "delete_cmd_postfix": ") ",
     "delete_cmd_prefix": "rm(",
     "library": "var_list.r",
     "varRefreshCmd": "cat(var_dic_list()) "
    }
   },
   "types_to_exclude": [
    "module",
    "function",
    "builtin_function_or_method",
    "instance",
    "_Feature"
   ],
   "window_display": false
  }
 },
 "nbformat": 4,
 "nbformat_minor": 2
}
